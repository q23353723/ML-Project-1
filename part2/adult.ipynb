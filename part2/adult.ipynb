{
 "cells": [
  {
   "cell_type": "code",
   "execution_count": 1,
   "metadata": {},
   "outputs": [],
   "source": [
    "import tensorflow as tf\n",
    "import numpy as np\n",
    "import pandas as pd\n",
    "from tensorflow import keras\n",
    "from tensorflow.keras import layers"
   ]
  },
  {
   "cell_type": "code",
   "execution_count": 2,
   "metadata": {},
   "outputs": [],
   "source": [
    "train_df = pd.read_csv(\"./data/processed_train.csv\")\n",
    "test_df = pd.read_csv(\"./data/processed_test.csv\")"
   ]
  },
  {
   "cell_type": "code",
   "execution_count": 3,
   "metadata": {},
   "outputs": [],
   "source": [
    "val_df = train_df.sample(frac=0.2, random_state=1337)\n",
    "train_df = train_df.drop(val_df.index)\n",
    "test_df = test_df.sample(frac=1)"
   ]
  },
  {
   "cell_type": "code",
   "execution_count": 4,
   "metadata": {},
   "outputs": [
    {
     "name": "stdout",
     "output_type": "stream",
     "text": [
      "26049 6512 16281\n"
     ]
    }
   ],
   "source": [
    "print(len(train_df), len(val_df), len(test_df))"
   ]
  },
  {
   "cell_type": "code",
   "execution_count": 5,
   "metadata": {},
   "outputs": [],
   "source": [
    "def dataframe_to_dataset(dataframe):\n",
    "    dataframe = dataframe.copy()\n",
    "    labels = dataframe.pop(\"education-num\")\n",
    "    labels_temp = labels.to_numpy()\n",
    "    labels_onehot = np.zeros((len(labels_temp), 16))\n",
    "    for index, label in enumerate(labels_temp):\n",
    "        labels_onehot[index][label - 1] = 1\n",
    "    ds = tf.data.Dataset.from_tensor_slices((dict(dataframe), labels_onehot))\n",
    "    ds = ds.shuffle(buffer_size=len(dataframe))\n",
    "    return ds\n",
    "\n",
    "train_ds = dataframe_to_dataset(train_df)\n",
    "val_ds = dataframe_to_dataset(val_df)\n",
    "test_ds = dataframe_to_dataset(test_df)"
   ]
  },
  {
   "cell_type": "code",
   "execution_count": 6,
   "metadata": {},
   "outputs": [
    {
     "name": "stdout",
     "output_type": "stream",
     "text": [
      "Input: {'native-country': <tf.Tensor: shape=(), dtype=int64, numpy=1>, 'marital-status': <tf.Tensor: shape=(), dtype=int64, numpy=1>, 'race': <tf.Tensor: shape=(), dtype=int64, numpy=1>, 'sex': <tf.Tensor: shape=(), dtype=int64, numpy=1>, 'relationship': <tf.Tensor: shape=(), dtype=int64, numpy=1>, 'occupation': <tf.Tensor: shape=(), dtype=int64, numpy=12>, 'workclass': <tf.Tensor: shape=(), dtype=int64, numpy=6>}\n",
      "Target: tf.Tensor([0. 0. 0. 0. 0. 0. 0. 0. 0. 1. 0. 0. 0. 0. 0. 0.], shape=(16,), dtype=float64)\n"
     ]
    }
   ],
   "source": [
    "for x, y in train_ds.take(1):\n",
    "    print(\"Input:\", x)\n",
    "    print(\"Target:\", y)\n"
   ]
  },
  {
   "cell_type": "code",
   "execution_count": 7,
   "metadata": {},
   "outputs": [],
   "source": [
    "train_ds = train_ds.batch(32)\n",
    "val_ds = val_ds.batch(32)\n",
    "test_ds = test_ds.batch(32)"
   ]
  },
  {
   "cell_type": "code",
   "execution_count": 8,
   "metadata": {},
   "outputs": [],
   "source": [
    "from tensorflow.keras.layers.experimental.preprocessing import CategoryEncoding\n",
    "def encode_integer_categorical_feature(feature, name, dataset):\n",
    "    encoder = CategoryEncoding(output_mode=\"binary\")\n",
    "    \n",
    "    feature_ds = dataset.map(lambda x, y: x[name])\n",
    "    feature_ds = feature_ds.map(lambda x: tf.expand_dims(x, -1))\n",
    "    \n",
    "    encoder.adapt(feature_ds)\n",
    "    \n",
    "    encoded_feature = encoder(feature)\n",
    "    return encoded_feature"
   ]
  },
  {
   "cell_type": "code",
   "execution_count": 9,
   "metadata": {},
   "outputs": [],
   "source": [
    "from tensorflow.keras import backend as K\n",
    "\n",
    "def recall_m(y_true, y_pred):\n",
    "    true_positives = K.sum(K.round(K.clip(y_true * y_pred, 0, 1)))\n",
    "    possible_positives = K.sum(K.round(K.clip(y_true, 0, 1)))\n",
    "    recall = true_positives / (possible_positives + K.epsilon())\n",
    "    return recall\n",
    "\n",
    "def precision_m(y_true, y_pred):\n",
    "    true_positives = K.sum(K.round(K.clip(y_true * y_pred, 0, 1)))\n",
    "    predicted_positives = K.sum(K.round(K.clip(y_pred, 0, 1)))\n",
    "    precision = true_positives / (predicted_positives + K.epsilon())\n",
    "    return precision\n",
    "\n",
    "def f1_m(y_true, y_pred):\n",
    "    precision = precision_m(y_true, y_pred)\n",
    "    recall = recall_m(y_true, y_pred)\n",
    "    return 2*((precision*recall)/(precision+recall+K.epsilon()))"
   ]
  },
  {
   "cell_type": "code",
   "execution_count": 10,
   "metadata": {},
   "outputs": [],
   "source": [
    "workclass = keras.Input(shape=(1,), name=\"workclass\", dtype=\"int64\")\n",
    "sex = keras.Input(shape=(1,), name=\"sex\", dtype=\"int64\")\n",
    "race = keras.Input(shape=(1,), name=\"race\", dtype=\"int64\")\n",
    "marital_status = keras.Input(shape=(1,), name=\"marital-status\", dtype=\"int64\")\n",
    "native_country = keras.Input(shape=(1,), name=\"native-country\", dtype=\"int64\")\n",
    "relationship = keras.Input(shape=(1,), name=\"relationship\", dtype=\"int64\")\n",
    "occupation = keras.Input(shape=(1,), name=\"occupation\", dtype=\"int64\")\n",
    "all_inputs = [workclass, sex, race, marital_status, native_country, relationship, occupation]\n",
    "\n",
    "workclass_encoded = encode_integer_categorical_feature(workclass, \"workclass\", train_ds)\n",
    "sex_encoded = encode_integer_categorical_feature(sex, \"sex\", train_ds)\n",
    "race_encoded = encode_integer_categorical_feature(race, \"race\", train_ds)\n",
    "marital_status_encoded = encode_integer_categorical_feature(marital_status, \"marital-status\", train_ds)\n",
    "native_country_encoded = encode_integer_categorical_feature(native_country, \"native-country\", train_ds)\n",
    "relationship_encoded = encode_integer_categorical_feature(relationship, \"relationship\", train_ds)\n",
    "occupation_encoded = encode_integer_categorical_feature(occupation, \"occupation\", train_ds)\n",
    "all_features = layers.concatenate(\n",
    "    [\n",
    "        workclass_encoded, sex_encoded, race_encoded, marital_status_encoded, native_country_encoded, relationship_encoded, occupation_encoded\n",
    "    ]\n",
    ")\n",
    "x = layers.Dense(256, activation=\"relu\")(all_features)\n",
    "x = layers.Dropout(0.5)(x)\n",
    "output = layers.Dense(16, activation=\"softmax\")(x)\n",
    "model = keras.Model(all_inputs, output)\n",
    "model.compile(\"adam\", \"categorical_crossentropy\", metrics=['accuracy', f1_m, precision_m, recall_m])"
   ]
  },
  {
   "cell_type": "code",
   "execution_count": 11,
   "metadata": {
    "scrolled": true,
    "tags": []
   },
   "outputs": [
    {
     "name": "stdout",
     "output_type": "stream",
     "text": [
      "Epoch 1/50\n",
      "815/815 [==============================] - 3s 3ms/step - loss: 2.0103 - accuracy: 0.3393 - f1_m: 0.0577 - precision_m: 0.3096 - recall_m: 0.0333 - val_loss: 1.7546 - val_accuracy: 0.4051 - val_f1_m: 0.0595 - val_precision_m: 0.4508 - val_recall_m: 0.0325\n",
      "Epoch 2/50\n",
      "815/815 [==============================] - 1s 1ms/step - loss: 1.7685 - accuracy: 0.3943 - f1_m: 0.1444 - precision_m: 0.4936 - recall_m: 0.0872 - val_loss: 1.7429 - val_accuracy: 0.4103 - val_f1_m: 0.0311 - val_precision_m: 0.3668 - val_recall_m: 0.0164\n",
      "Epoch 3/50\n",
      "815/815 [==============================] - 1s 1ms/step - loss: 1.7431 - accuracy: 0.3998 - f1_m: 0.1301 - precision_m: 0.5132 - recall_m: 0.0768 - val_loss: 1.7364 - val_accuracy: 0.4134 - val_f1_m: 0.0873 - val_precision_m: 0.5552 - val_recall_m: 0.0484\n",
      "Epoch 4/50\n",
      "815/815 [==============================] - 1s 1ms/step - loss: 1.7498 - accuracy: 0.3988 - f1_m: 0.1320 - precision_m: 0.4965 - recall_m: 0.0784 - val_loss: 1.7300 - val_accuracy: 0.4186 - val_f1_m: 0.1978 - val_precision_m: 0.5518 - val_recall_m: 0.1232\n",
      "Epoch 5/50\n",
      "815/815 [==============================] - 1s 1ms/step - loss: 1.7316 - accuracy: 0.4050 - f1_m: 0.1346 - precision_m: 0.5082 - recall_m: 0.0795 - val_loss: 1.7308 - val_accuracy: 0.4177 - val_f1_m: 0.1825 - val_precision_m: 0.5531 - val_recall_m: 0.1117\n",
      "Epoch 6/50\n",
      "815/815 [==============================] - 1s 1ms/step - loss: 1.7371 - accuracy: 0.3965 - f1_m: 0.1344 - precision_m: 0.5049 - recall_m: 0.0798 - val_loss: 1.7354 - val_accuracy: 0.4182 - val_f1_m: 0.1492 - val_precision_m: 0.5600 - val_recall_m: 0.0876\n",
      "Epoch 7/50\n",
      "815/815 [==============================] - 1s 1ms/step - loss: 1.7184 - accuracy: 0.4065 - f1_m: 0.1491 - precision_m: 0.5183 - recall_m: 0.0900 - val_loss: 1.7324 - val_accuracy: 0.4195 - val_f1_m: 0.1873 - val_precision_m: 0.5575 - val_recall_m: 0.1150\n",
      "Epoch 8/50\n",
      "815/815 [==============================] - 1s 2ms/step - loss: 1.7273 - accuracy: 0.3983 - f1_m: 0.1364 - precision_m: 0.5072 - recall_m: 0.0813 - val_loss: 1.7313 - val_accuracy: 0.4175 - val_f1_m: 0.1623 - val_precision_m: 0.5819 - val_recall_m: 0.0964\n",
      "Epoch 9/50\n",
      "815/815 [==============================] - 1s 1ms/step - loss: 1.7218 - accuracy: 0.4028 - f1_m: 0.1569 - precision_m: 0.5173 - recall_m: 0.0948 - val_loss: 1.7354 - val_accuracy: 0.4171 - val_f1_m: 0.1469 - val_precision_m: 0.5725 - val_recall_m: 0.0859\n",
      "Epoch 10/50\n",
      "815/815 [==============================] - 1s 1ms/step - loss: 1.7133 - accuracy: 0.4047 - f1_m: 0.1436 - precision_m: 0.5224 - recall_m: 0.0858 - val_loss: 1.7390 - val_accuracy: 0.4198 - val_f1_m: 0.2537 - val_precision_m: 0.5178 - val_recall_m: 0.1706\n",
      "Epoch 11/50\n",
      "815/815 [==============================] - 1s 1ms/step - loss: 1.7085 - accuracy: 0.4080 - f1_m: 0.1641 - precision_m: 0.5309 - recall_m: 0.1003 - val_loss: 1.7411 - val_accuracy: 0.4168 - val_f1_m: 0.0719 - val_precision_m: 0.5047 - val_recall_m: 0.0395\n",
      "Epoch 12/50\n",
      "815/815 [==============================] - 1s 1ms/step - loss: 1.7115 - accuracy: 0.4105 - f1_m: 0.1391 - precision_m: 0.5247 - recall_m: 0.0831 - val_loss: 1.7385 - val_accuracy: 0.4191 - val_f1_m: 0.0854 - val_precision_m: 0.5578 - val_recall_m: 0.0472\n"
     ]
    }
   ],
   "source": [
    "callback = tf.keras.callbacks.EarlyStopping(monitor='val_f1_m', patience=30)\n",
    "\n",
    "history = model.fit(train_ds, epochs=200, validation_data=val_ds, callbacks=[callback])"
   ]
  },
  {
   "cell_type": "code",
   "execution_count": 12,
   "metadata": {},
   "outputs": [
    {
     "name": "stdout",
     "output_type": "stream",
     "text": [
      "509/509 [==============================] - 0s 883us/step - loss: 1.7348 - accuracy: 0.4083 - f1_m: 0.0756 - precision_m: 0.4842 - recall_m: 0.0419\n"
     ]
    }
   ],
   "source": [
    "loss, accuracy, f1_score, precision, recall = model.evaluate(test_ds)"
   ]
  },
  {
   "cell_type": "code",
   "execution_count": null,
   "metadata": {},
   "outputs": [],
   "source": []
  }
 ],
 "metadata": {
  "kernelspec": {
   "display_name": "Python 3",
   "language": "python",
   "name": "python3"
  },
  "language_info": {
   "codemirror_mode": {
    "name": "ipython",
    "version": 3
   },
   "file_extension": ".py",
   "mimetype": "text/x-python",
   "name": "python",
   "nbconvert_exporter": "python",
   "pygments_lexer": "ipython3",
   "version": "3.8.5"
  }
 },
 "nbformat": 4,
 "nbformat_minor": 5
}
